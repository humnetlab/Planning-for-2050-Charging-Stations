{
 "cells": [
  {
   "cell_type": "code",
   "execution_count": 1,
   "metadata": {},
   "outputs": [
    {
     "name": "stderr",
     "output_type": "stream",
     "text": [
      "/home/jiaman/anaconda3/lib/python3.8/site-packages/geopandas/_compat.py:123: UserWarning: The Shapely GEOS version (3.8.0-CAPI-1.13.1 ) is incompatible with the GEOS version PyGEOS was compiled with (3.10.4-CAPI-1.16.2). Conversions between both will be slow.\n",
      "  warnings.warn(\n"
     ]
    }
   ],
   "source": [
    "# import SimMobility as smb\n",
    "# import SimAdopter as smapt\n",
    "# import SimBehavior as smbhr\n",
    "# import SimShift as smshf\n",
    "import SimSensitivity as smstv"
   ]
  },
  {
   "cell_type": "code",
   "execution_count": null,
   "metadata": {},
   "outputs": [],
   "source": [
    "# work_l2_access,home_l2_access = 0.5, 0.54\n",
    "# peak_start,peak_end = 17, 20\n",
    "# acceptance,max_stay = 1, 9"
   ]
  },
  {
   "cell_type": "code",
   "execution_count": null,
   "metadata": {},
   "outputs": [],
   "source": [
    "# mb = smb.SimMobility()\n",
    "# mb.calTrajectories()\n",
    "# mb.calEnergies()\n",
    "# del mb"
   ]
  },
  {
   "cell_type": "code",
   "execution_count": null,
   "metadata": {},
   "outputs": [],
   "source": [
    "# apt = smapt.SimAdopter(work_l2_access,home_l2_access)\n",
    "# apt.calUserInformation()\n",
    "# apt.calEVDrivers()\n",
    "# del apt"
   ]
  },
  {
   "cell_type": "code",
   "execution_count": null,
   "metadata": {},
   "outputs": [],
   "source": [
    "# bhr = smbhr.SimBehavior(work_l2_access,home_l2_access)\n",
    "# bhr.calGroup()\n",
    "# bhr.calBehavior()\n",
    "# del bhr"
   ]
  },
  {
   "cell_type": "code",
   "execution_count": null,
   "metadata": {},
   "outputs": [],
   "source": [
    "# shf = smshf.SimShift(work_l2_access,home_l2_access,peak_start,peak_end,acceptance,max_stay)\n",
    "# shf.calShift()\n",
    "# shf.calAcceptance()\n",
    "# shf.calResults()\n",
    "# del shf"
   ]
  },
  {
   "cell_type": "code",
   "execution_count": null,
   "metadata": {},
   "outputs": [],
   "source": [
    "work_l2_access_list = [0.5]; home_l2_access_list = [0.54]\n",
    "peak_start_list = [17]; acceptance_list = [1]; max_stay_list = [3,5,7,9]\n",
    "sms = smstv.SimSensitivity(work_l2_access_list,home_l2_access_list,peak_start_list,acceptance_list,max_stay_list)\n",
    "sms.runSimulation()\n",
    "del sms"
   ]
  },
  {
   "cell_type": "code",
   "execution_count": null,
   "metadata": {},
   "outputs": [],
   "source": [
    "work_l2_access_list = [0.5]; home_l2_access_list = [0.54]\n",
    "peak_start_list = [17]; acceptance_list = [0.2,0.4,0.6,0.8]; max_stay_list = [9]\n",
    "sms = smstv.SimSensitivity(work_l2_access_list,home_l2_access_list,peak_start_list,acceptance_list,max_stay_list)\n",
    "sms.runSimulation()\n",
    "del sms"
   ]
  },
  {
   "cell_type": "code",
   "execution_count": null,
   "metadata": {},
   "outputs": [],
   "source": [
    "work_l2_access_list = [0.5]; home_l2_access_list = [0.54]\n",
    "peak_start_list = [1,7,13,19]; acceptance_list = [1]; max_stay_list = [9]\n",
    "sms = smstv.SimSensitivity(work_l2_access_list,home_l2_access_list,peak_start_list,acceptance_list,max_stay_list)\n",
    "sms.runSimulation()\n",
    "del sms"
   ]
  }
 ],
 "metadata": {
  "kernelspec": {
   "display_name": "base",
   "language": "python",
   "name": "python3"
  },
  "language_info": {
   "codemirror_mode": {
    "name": "ipython",
    "version": 3
   },
   "file_extension": ".py",
   "mimetype": "text/x-python",
   "name": "python",
   "nbconvert_exporter": "python",
   "pygments_lexer": "ipython3",
   "version": "3.8.8"
  },
  "orig_nbformat": 4
 },
 "nbformat": 4,
 "nbformat_minor": 2
}

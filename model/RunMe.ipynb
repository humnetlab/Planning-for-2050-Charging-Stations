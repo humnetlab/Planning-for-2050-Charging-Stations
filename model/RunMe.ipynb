{
 "cells": [
  {
   "cell_type": "code",
   "execution_count": null,
   "metadata": {},
   "outputs": [],
   "source": [
    "import SimMobility as smb\n",
    "import SimAdopter as smapt\n",
    "import SimBehavior as smbhr\n",
    "import SimShift as smshf"
   ]
  },
  {
   "cell_type": "code",
   "execution_count": null,
   "metadata": {},
   "outputs": [],
   "source": [
    "work_l2_access,home_l2_access = 0.5, 0.54\n",
    "peak_start,peak_end = 17, 20\n",
    "acceptance,max_stay = 1, 3"
   ]
  },
  {
   "cell_type": "code",
   "execution_count": null,
   "metadata": {},
   "outputs": [],
   "source": [
    "mb = smb.SimMobility()\n",
    "mb.calTrajectories()\n",
    "mb.calEnergies()\n",
    "del mb"
   ]
  },
  {
   "cell_type": "code",
   "execution_count": null,
   "metadata": {},
   "outputs": [],
   "source": [
    "apt = smapt.SimAdopter(work_l2_access,home_l2_access)\n",
    "apt.calUserInformation()\n",
    "apt.calEVDrivers()\n",
    "del apt"
   ]
  },
  {
   "cell_type": "code",
   "execution_count": null,
   "metadata": {},
   "outputs": [],
   "source": [
    "bhr = smbhr.SimBehavior(work_l2_access,home_l2_access)\n",
    "bhr.calGroup()\n",
    "bhr.calBehavior()\n",
    "del bhr"
   ]
  },
  {
   "cell_type": "code",
   "execution_count": null,
   "metadata": {},
   "outputs": [],
   "source": [
    "shf = smshf.SimShift(work_l2_access,home_l2_access,peak_start,peak_end,acceptance,max_stay)\n",
    "shf.calShift()\n",
    "shf.calAcceptance()\n",
    "shf.calResults()\n",
    "del shf"
   ]
  }
 ],
 "metadata": {
  "kernelspec": {
   "display_name": "base",
   "language": "python",
   "name": "python3"
  },
  "language_info": {
   "codemirror_mode": {
    "name": "ipython",
    "version": 3
   },
   "file_extension": ".py",
   "mimetype": "text/x-python",
   "name": "python",
   "nbconvert_exporter": "python",
   "pygments_lexer": "ipython3",
   "version": "3.8.8"
  },
  "orig_nbformat": 4
 },
 "nbformat": 4,
 "nbformat_minor": 2
}

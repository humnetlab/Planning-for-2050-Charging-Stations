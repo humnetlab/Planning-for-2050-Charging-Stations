{
 "cells": [
  {
   "cell_type": "code",
   "execution_count": null,
   "metadata": {},
   "outputs": [],
   "source": [
    "import AnaMobility as anamb\n",
    "import AnaAdopter as anadp\n",
    "import AnaBehavior as anabhr\n",
    "import AnaShift as anashf\n",
    "import AnaStat as anastat\n",
    "import AnaSensitivity as anastv"
   ]
  },
  {
   "cell_type": "code",
   "execution_count": null,
   "metadata": {},
   "outputs": [],
   "source": [
    "work_l2_access,home_l2_access = 0.5, 0.54\n",
    "peak_start,peak_end = 17, 20\n",
    "acceptance,max_stay = 1, 9"
   ]
  },
  {
   "cell_type": "code",
   "execution_count": null,
   "metadata": {},
   "outputs": [],
   "source": [
    "mb = anamb.AnaMobility(work_l2_access,home_l2_access)\n",
    "mb.visMobility()"
   ]
  },
  {
   "cell_type": "code",
   "execution_count": null,
   "metadata": {},
   "outputs": [],
   "source": [
    "adp = anadp.AnaAdopter(work_l2_access,home_l2_access,peak_start,peak_end,acceptance,max_stay)\n",
    "adp.visValidation()\n",
    "adp.visMarketShare()\n",
    "adp.visDemographics()\n",
    "adp.visAdoption()"
   ]
  },
  {
   "cell_type": "code",
   "execution_count": null,
   "metadata": {},
   "outputs": [],
   "source": [
    "bhr = anabhr.AnaBehavior(work_l2_access,home_l2_access,peak_start,peak_end,acceptance,max_stay)\n",
    "bhr.visGroup()\n",
    "bhr.visTempLoad()\n",
    "bhr.visGeoLoad()"
   ]
  },
  {
   "cell_type": "code",
   "execution_count": null,
   "metadata": {},
   "outputs": [],
   "source": [
    "shf = anashf.AnaShift(work_l2_access,home_l2_access,peak_start,peak_end,acceptance,max_stay)\n",
    "shf.visTempLoad()\n",
    "shf.visShaveSector()\n",
    "shf.visStation()\n",
    "shf.visZIPPair()\n",
    "shf.visZipScatter()\n",
    "shf.visFutureRidge()\n",
    "shf.visFutureMap()\n",
    "shf.visFutureIncrease()\n",
    "shf.visFutureCat()"
   ]
  },
  {
   "cell_type": "code",
   "execution_count": null,
   "metadata": {},
   "outputs": [],
   "source": [
    "stat = anastat.AnaStat(work_l2_access,home_l2_access,peak_start,peak_end,acceptance,max_stay)\n",
    "stat.calChargingGroup()\n",
    "stat.calDemandTemporal()\n",
    "stat.calDemandSpatial()\n",
    "stat.calShaveTemporal()\n",
    "stat.calShaveSector()\n",
    "stat.calSupplyShave()\n",
    "stat.calFutureDemo()\n",
    "stat.calFutureDemandTemporal()\n",
    "stat.calFutureDemandSpatial()\n",
    "stat.calFutureSupplyTemporal()\n",
    "stat.calFutureNetChange()\n",
    "stat.calFutureDemandYear(0.3)\n",
    "stat.calFutureDemandYear(0.5)\n",
    "stat.calFutureSupplyYear(0.5)"
   ]
  },
  {
   "cell_type": "code",
   "execution_count": null,
   "metadata": {},
   "outputs": [],
   "source": [
    "work_l2_access_list = [0.5]; home_l2_access_list = [0.54]\n",
    "peak_start_list = [17]; acceptance_list = [1]; max_stay_list = [3,5,7,9]\n",
    "anasen = anastv.AnaSensitivity(work_l2_access_list,home_l2_access_list,peak_start_list,acceptance_list,max_stay_list)\n",
    "anasen.visSensitivity('maxstay',4,'/')"
   ]
  },
  {
   "cell_type": "code",
   "execution_count": null,
   "metadata": {},
   "outputs": [],
   "source": [
    "work_l2_access_list = [0.5]; home_l2_access_list = [0.54]\n",
    "peak_start_list = [17]; acceptance_list = [0.2,0.4,0.6,0.8]; max_stay_list = [9]\n",
    "anasen = anastv.AnaSensitivity(work_l2_access_list,home_l2_access_list,peak_start_list,acceptance_list,max_stay_list)\n",
    "anasen.visSensitivity('acceptance',3,'+')"
   ]
  },
  {
   "cell_type": "code",
   "execution_count": null,
   "metadata": {},
   "outputs": [],
   "source": [
    "work_l2_access_list = [0.5]; home_l2_access_list = [0.54]\n",
    "peak_start_list = [1,7,13,19]; acceptance_list = [1]; max_stay_list = [9]\n",
    "anasen = anastv.AnaSensitivity(work_l2_access_list,home_l2_access_list,peak_start_list,acceptance_list,max_stay_list)\n",
    "anasen.visSensitivity('hour',2,'.')"
   ]
  }
 ],
 "metadata": {
  "kernelspec": {
   "display_name": "base",
   "language": "python",
   "name": "python3"
  },
  "language_info": {
   "codemirror_mode": {
    "name": "ipython",
    "version": 3
   },
   "file_extension": ".py",
   "mimetype": "text/x-python",
   "name": "python",
   "nbconvert_exporter": "python",
   "pygments_lexer": "ipython3",
   "version": "3.8.8"
  },
  "orig_nbformat": 4
 },
 "nbformat": 4,
 "nbformat_minor": 2
}
